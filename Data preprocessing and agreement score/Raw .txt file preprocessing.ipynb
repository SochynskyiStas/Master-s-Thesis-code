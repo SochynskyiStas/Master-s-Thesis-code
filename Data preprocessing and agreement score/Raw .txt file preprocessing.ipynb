{
 "cells": [
  {
   "cell_type": "code",
   "execution_count": 175,
   "metadata": {},
   "outputs": [],
   "source": [
    "import pandas as pd\n",
    "import numpy as np\n",
    "import re"
   ]
  },
  {
   "cell_type": "code",
   "execution_count": 176,
   "metadata": {},
   "outputs": [],
   "source": [
    "file = open(\"reddit_depression.txt\", 'r', encoding = \"utf8\") #open for reading with utf8 encoding\n",
    "f = file.readlines() #read line by line"
   ]
  },
  {
   "cell_type": "code",
   "execution_count": 177,
   "metadata": {},
   "outputs": [],
   "source": [
    "f = [s for s in f if s!= '\\n'] #drop all /n sentenes\n",
    "\n",
    "#drop pattern '%% number\\n'\n",
    "pattern_to_delete_1 = re.compile(r'%% \\d{1,}\\n')\n",
    "\n",
    "for row in range(len(f)):\n",
    "    f[row] = re.sub(pattern_to_delete, '', f[row])\n",
    "    f[row] = f[row].replace('\\n','')\n",
    "\n",
    "f = [s for s in f if s!= ''] #drop empty sentences that left after deleting unnecessary"
   ]
  },
  {
   "cell_type": "code",
   "execution_count": 272,
   "metadata": {},
   "outputs": [
    {
     "data": {
      "text/plain": [
       "5522040"
      ]
     },
     "execution_count": 272,
     "metadata": {},
     "output_type": "execute_result"
    }
   ],
   "source": [
    "len(f)"
   ]
  },
  {
   "cell_type": "code",
   "execution_count": 273,
   "metadata": {},
   "outputs": [],
   "source": [
    "temp_list = f"
   ]
  },
  {
   "cell_type": "code",
   "execution_count": 276,
   "metadata": {},
   "outputs": [],
   "source": [
    "joint_texts_list = []\n",
    "temp_join_list = []\n",
    "\n",
    "for i in range(len(temp_list)):\n",
    "    if ('%% ' not in temp_list[i]): # find sentences without %% signs\n",
    "        temp_join_list.append(temp_list[i]) #adding them to temp list\n",
    "    else:\n",
    "        if (len(temp_join_list) != 0): #check in order not to add empty sentences\n",
    "            joint_texts_list.append(' '.join(temp_join_list)) #join appended sentences\n",
    "            temp_join_list = [] #emptying temp list\n",
    "        joint_texts_list.append(temp_list[i]) #appending texts with %%"
   ]
  },
  {
   "cell_type": "code",
   "execution_count": 289,
   "metadata": {},
   "outputs": [],
   "source": [
    "reddit_id_list = []\n",
    "title_list = []\n",
    "fake_id_list = []\n",
    "nickname_list = []\n",
    "text_list = []\n",
    "\n",
    "for i in range(len(joint_texts_list)):\n",
    "    if(i+1 != len(joint_texts_list)):\n",
    "        if (joint_texts_list[i] == joint_texts_list[i+1] and joint_texts_list[i] == joint_texts_list[i+2]):\n",
    "            reddit_id_list.append(joint_texts_list[i])\n",
    "            title_list.append(joint_texts_list[i+3])\n",
    "            nickname_list.append(joint_texts_list[i+4])\n",
    "            text_list.append(joint_texts_list[i+5])"
   ]
  },
  {
   "cell_type": "code",
   "execution_count": 409,
   "metadata": {},
   "outputs": [],
   "source": [
    "df = pd.DataFrame (columns = ['Reddit ID', 'Fake ID', 'Title', 'Nickname' ,'Text'])\n",
    "df['Reddit ID'] = reddit_id_list\n",
    "df['Fake ID'] = range(len(reddit_id_list))\n",
    "df['Title'] = title_list\n",
    "df['Nickname'] = nickname_list\n",
    "df['Text'] = text_list\n",
    "\n",
    "#df.head()"
   ]
  },
  {
   "cell_type": "markdown",
   "metadata": {},
   "source": [
    "## Distribution of the text length"
   ]
  },
  {
   "cell_type": "code",
   "execution_count": 410,
   "metadata": {},
   "outputs": [],
   "source": [
    "import matplotlib.pyplot as plt\n",
    "import seaborn as sns\n",
    "import numpy as np \n",
    "\n",
    "%matplotlib inline"
   ]
  },
  {
   "cell_type": "markdown",
   "metadata": {},
   "source": [
    "### by number of characters"
   ]
  },
  {
   "cell_type": "code",
   "execution_count": 411,
   "metadata": {},
   "outputs": [],
   "source": [
    "df.dropna(inplace = True)"
   ]
  },
  {
   "cell_type": "code",
   "execution_count": 412,
   "metadata": {},
   "outputs": [],
   "source": [
    "df['Text_len'] = [len(s) for s in df['Text']]"
   ]
  },
  {
   "cell_type": "code",
   "execution_count": 413,
   "metadata": {},
   "outputs": [
    {
     "data": {
      "image/png": "[encoded data removed]",
      "text/plain": [
       "<Figure size 1152x432 with 1 Axes>"
      ]
     },
     "metadata": {},
     "output_type": "display_data"
    }
   ],
   "source": [
    "sns.set(); np.random.seed(0)\n",
    "plt.figure(figsize=(16, 6))\n",
    "\n",
    "ax = sns.distplot(df['Text_len'])"
   ]
  },
  {
   "cell_type": "code",
   "execution_count": 414,
   "metadata": {},
   "outputs": [
    {
     "data": {
      "text/plain": [
       "10       5650\n",
       "9        1270\n",
       "292       164\n",
       "262       162\n",
       "158       155\n",
       "         ... \n",
       "12528       1\n",
       "13366       1\n",
       "10141       1\n",
       "16286       1\n",
       "5733        1\n",
       "Name: Text_len, Length: 7547, dtype: int64"
      ]
     },
     "execution_count": 414,
     "metadata": {},
     "output_type": "execute_result"
    }
   ],
   "source": [
    "df['Text_len'].sort_values().value_counts()"
   ]
  },
  {
   "cell_type": "code",
   "execution_count": 415,
   "metadata": {},
   "outputs": [
    {
     "data": {
      "text/plain": [
       "count    172141.00000\n",
       "mean       1101.55185\n",
       "std        1410.92854\n",
       "min           1.00000\n",
       "25%         305.00000\n",
       "50%         686.00000\n",
       "75%        1381.00000\n",
       "max       39845.00000\n",
       "Name: Text_len, dtype: float64"
      ]
     },
     "execution_count": 415,
     "metadata": {},
     "output_type": "execute_result"
    }
   ],
   "source": [
    "df['Text_len'].describe()"
   ]
  },
  {
   "cell_type": "code",
   "execution_count": 416,
   "metadata": {},
   "outputs": [],
   "source": [
    "df = df[(df['Text_len'] <= 3000) & (df['Text_len']  >= 200)]"
   ]
  },
  {
   "cell_type": "code",
   "execution_count": 417,
   "metadata": {},
   "outputs": [
    {
     "data": {
      "image/png": "[encoded data removed]",
      "text/plain": [
       "<Figure size 1152x432 with 1 Axes>"
      ]
     },
     "metadata": {},
     "output_type": "display_data"
    }
   ],
   "source": [
    "plt.figure(figsize=(16, 6))\n",
    "ax = sns.distplot(ch_texts_len_2)"
   ]
  },
  {
   "cell_type": "code",
   "execution_count": 418,
   "metadata": {},
   "outputs": [
    {
     "data": {
      "text/plain": [
       "count    131284.000000\n",
       "mean        980.939002\n",
       "std         663.569901\n",
       "min         200.000000\n",
       "25%         454.000000\n",
       "50%         786.000000\n",
       "75%        1343.000000\n",
       "max        3000.000000\n",
       "Name: Text_len, dtype: float64"
      ]
     },
     "execution_count": 418,
     "metadata": {},
     "output_type": "execute_result"
    }
   ],
   "source": [
    "df['Text_len'].describe()"
   ]
  },
  {
   "cell_type": "code",
   "execution_count": 407,
   "metadata": {},
   "outputs": [],
   "source": [
    "list_1 = df['Text'][(df['Text_len'] == 150)].to_list()"
   ]
  },
  {
   "cell_type": "code",
   "execution_count": 419,
   "metadata": {},
   "outputs": [
    {
     "data": {
      "text/plain": [
       "['She loves my brother and sister, but I feel she hates me. She’s always complaining that I’m miserable and that I sit in my room all day, and that I’m just like my dad. My grades are slipping and she knows about it and I feel like I’m not enough for her. I really don’t know what to do to please her. ',\n",
       " \"I'm with not a perfect man by any means but a healthy man, he's cute too. But I have intrusive thoughts and I fixate, obsess, dissect and over react. I am a highly depressed person and I'm ready to talk it out with a professional because I want to be a healthy adult so I can start my life with him. \",\n",
       " 'I feel like something switched in the past few weeks. I would normally be excited to see my friends/family, but lately, the thought of seeing anyone just fills me with dread and anxiety. This is one of the first holidays that I am reluctantly going home, wishing that I could spend it in bed instead.',\n",
       " \"Feeling super depressed and I'm at the point of bursting. My finals are this week, and it feels like doomsday scenario. I can't hold in my depression for much longer. But I gotta see the Last Jedi lol, I wonder what will happen to Luke and Rey and Kylo and Leia and everyone else (no spoilers please)\",\n",
       " 'When my head starts to almost ache (from stress or sleepiness?) I feel this intense need to sleep and am unable to think clearly without an abnormally large amount of effort. I just can’t muster up the concentration or energy to do anything. It sucks. And it happens so often. Can anyone else relate?']"
      ]
     },
     "execution_count": 419,
     "metadata": {},
     "output_type": "execute_result"
    }
   ],
   "source": [
    "list_1[:5]"
   ]
  },
  {
   "cell_type": "markdown",
   "metadata": {},
   "source": [
    "Desicion:\n",
    "1. Texts below 10 charaters were dropped from the list as they did not contain any useful infromation\n",
    "1. Texts below 150 characters do not contain sufficient information to make decision about certain distortion\n",
    "2. Texts over 1500 (over 75% percentile) contains large amount of information. However, multiple distortions can be found in the text, and which require annotation sentece by setence which can be studied in further work.\n",
    "\n",
    "**Question:** should we provide examples of the texts?\n",
    "\n",
    "Taking into account statments mentioned above, it was decided to limit texts sizes between 200 to 1500 characters.\n",
    "\n",
    "Positively skewed (https://www.statisticshowto.com/probability-and-statistics/skewed-distribution/)"
   ]
  },
  {
   "cell_type": "markdown",
   "metadata": {},
   "source": [
    "https://seaborn.pydata.org/tutorial/distributions.html\n",
    "https://seaborn.pydata.org/generated/seaborn.kdeplot.html\n",
    "https://python-graph-gallery.com/70-basic-density-plot-with-seaborn/"
   ]
  },
  {
   "cell_type": "code",
   "execution_count": 420,
   "metadata": {},
   "outputs": [],
   "source": [
    "df.to_csv(\"final_orig.csv\", sep='\\t', index = False)"
   ]
  }
 ],
 "metadata": {
  "kernelspec": {
   "display_name": "Python 3",
   "language": "python",
   "name": "python3"
  },
  "language_info": {
   "codemirror_mode": {
    "name": "ipython",
    "version": 3
   },
   "file_extension": ".py",
   "mimetype": "text/x-python",
   "name": "python",
   "nbconvert_exporter": "python",
   "pygments_lexer": "ipython3",
   "version": "3.8.3"
  }
 },
 "nbformat": 4,
 "nbformat_minor": 2
}
