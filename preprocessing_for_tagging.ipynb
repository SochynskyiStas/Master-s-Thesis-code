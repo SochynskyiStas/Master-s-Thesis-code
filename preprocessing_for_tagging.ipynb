{
 "cells": [
  {
   "cell_type": "code",
   "execution_count": 1,
   "metadata": {},
   "outputs": [],
   "source": [
    "import pandas as pd\n",
    "import numpy as np\n",
    "import re"
   ]
  },
  {
   "cell_type": "code",
   "execution_count": 2,
   "metadata": {},
   "outputs": [],
   "source": [
    "file=open(\"reddit_depression.txt\", 'r', encoding=\"utf8\") #open for reading with utf8 encoding\n",
    "f = file.readlines() #read line by line\n",
    "#f[:25]\n",
    "f = [x for x in f if x!='\\n'] #interesting code\n",
    "\n",
    "#delete pattern '%% number\\n'\n",
    "pattern_to_delete_1 = re.compile(r'%% \\d\\n')\n",
    "\n",
    "#delete pattern '%% (10 numbers)\\n'\n",
    "pattern_to_delete_2 = re.compile(r'%% \\d{10}\\n')\n",
    "\n",
    "for row in range(len(f)):\n",
    "    f[row] = re.sub(pattern_to_delete_1, '', f[row])\n",
    "    f[row] = re.sub(pattern_to_delete_2, '', f[row])\n",
    "    f[row] = f[row].replace('\\n','')\n",
    "\n",
    "f = [x for x in f if x!='']"
   ]
  },
  {
   "cell_type": "code",
   "execution_count": 3,
   "metadata": {},
   "outputs": [],
   "source": [
    "#f[0:50]"
   ]
  },
  {
   "cell_type": "code",
   "execution_count": 4,
   "metadata": {},
   "outputs": [
    {
     "data": {
      "text/plain": [
       "(2936749, 1)"
      ]
     },
     "execution_count": 4,
     "metadata": {},
     "output_type": "execute_result"
    }
   ],
   "source": [
    "text_data = pd.DataFrame(f)\n",
    "text_data.columns = ['text']\n",
    "text_data.shape\n",
    "\n",
    "#remove all occurences of '\\n' sentences as they using extra memmory.\n",
    "#text_data = text_data[text_data != '\\n']\n",
    "\n",
    "# Drop rows where all data is the same\n",
    "text_data = text_data.drop_duplicates()\n",
    "\n",
    "#delete all NaN\n",
    "#text_data = text_data.dropna()\n",
    "text_data.shape"
   ]
  },
  {
   "cell_type": "code",
   "execution_count": 5,
   "metadata": {
    "scrolled": true
   },
   "outputs": [],
   "source": [
    "#text_data.head(50)"
   ]
  },
  {
   "cell_type": "code",
   "execution_count": 6,
   "metadata": {},
   "outputs": [],
   "source": [
    "#test = text_data[text_data['text'].str.match(r'(^%% [a-z0-9]{6,9}$)|(^[^%]{2}.*$)')]"
   ]
  },
  {
   "cell_type": "code",
   "execution_count": 7,
   "metadata": {},
   "outputs": [],
   "source": [
    "test = text_data[text_data['text'].str.match(r'(^%% 7)|(^%% d)|(^[^%].*$)')]\n",
    "#len(test) - 1546145"
   ]
  },
  {
   "cell_type": "code",
   "execution_count": 8,
   "metadata": {},
   "outputs": [],
   "source": [
    "#len(test)"
   ]
  },
  {
   "cell_type": "code",
   "execution_count": 24,
   "metadata": {},
   "outputs": [],
   "source": [
    "new_df = test[:1400] #takes 16 minutes"
   ]
  },
  {
   "cell_type": "code",
   "execution_count": 25,
   "metadata": {},
   "outputs": [],
   "source": [
    "concat_index = 0\n",
    "for index, row in new_df.iterrows():\n",
    "    if ('%% ' in row.text):\n",
    "        concat_index = 0\n",
    "    else:\n",
    "        if concat_index == 0:\n",
    "            concat_index = index\n",
    "        else:\n",
    "            new_df.at[concat_index, 'text'] += row.text\n",
    "            new_df = new_df.drop(index)\n",
    "new_df.index = range(len(new_df)) #brings indexes to normal 0:N"
   ]
  },
  {
   "cell_type": "code",
   "execution_count": 11,
   "metadata": {},
   "outputs": [],
   "source": [
    "#join method ? https://waymoot.org/home/python_string/"
   ]
  },
  {
   "cell_type": "code",
   "execution_count": 26,
   "metadata": {},
   "outputs": [],
   "source": [
    "#delete IDs without text %% ds0rpzr ; %% ds0vciy ; %% ds0hwwj ; %% ds0ti37 ; %% ds0bj6h\n",
    "temp_list = new_df[\"text\"].values\n",
    "to_delete = []\n",
    "\n",
    "for row in range(0, len(temp_list)):\n",
    "    if ('%% ' in temp_list[row]):\n",
    "        if row == 0:\n",
    "            continue\n",
    "        else:\n",
    "            if ('%% ' in temp_list[row-1]):\n",
    "                to_delete.append(row-1)\n",
    "\n",
    "modDfObj = new_df.drop(to_delete) #inplace=True - delete from previous dataset\n",
    "\n",
    "#len(modDfObj[modDfObj['text'].str.match(r'^[^%]')])\n",
    "#len(modDfObj[modDfObj['text'].str.match(r'%% 7nb')])"
   ]
  },
  {
   "cell_type": "code",
   "execution_count": 27,
   "metadata": {},
   "outputs": [
    {
     "data": {
      "text/plain": [
       "92626"
      ]
     },
     "execution_count": 27,
     "metadata": {},
     "output_type": "execute_result"
    }
   ],
   "source": [
    "len(modDfObj)"
   ]
  },
  {
   "cell_type": "code",
   "execution_count": 28,
   "metadata": {},
   "outputs": [],
   "source": [
    "ids = []\n",
    "texts = []"
   ]
  },
  {
   "cell_type": "code",
   "execution_count": 29,
   "metadata": {},
   "outputs": [],
   "source": [
    "text = modDfObj[\"text\"].values\n",
    "for idx in range(len(text)):\n",
    "    if idx % 2 == 0:\n",
    "        ids.append(text[idx])\n",
    "    else:\n",
    "        texts.append(text[idx])"
   ]
  },
  {
   "cell_type": "code",
   "execution_count": 30,
   "metadata": {},
   "outputs": [],
   "source": [
    "unlab_dataset = pd.DataFrame()\n",
    "unlab_dataset[\"id\"] = ids\n",
    "unlab_dataset[\"text\"] = texts"
   ]
  },
  {
   "cell_type": "code",
   "execution_count": 31,
   "metadata": {},
   "outputs": [
    {
     "data": {
      "text/html": [
       "<div>\n",
       "<style scoped>\n",
       "    .dataframe tbody tr th:only-of-type {\n",
       "        vertical-align: middle;\n",
       "    }\n",
       "\n",
       "    .dataframe tbody tr th {\n",
       "        vertical-align: top;\n",
       "    }\n",
       "\n",
       "    .dataframe thead th {\n",
       "        text-align: right;\n",
       "    }\n",
       "</style>\n",
       "<table border=\"1\" class=\"dataframe\">\n",
       "  <thead>\n",
       "    <tr style=\"text-align: right;\">\n",
       "      <th></th>\n",
       "      <th>id</th>\n",
       "      <th>text</th>\n",
       "    </tr>\n",
       "  </thead>\n",
       "  <tbody>\n",
       "    <tr>\n",
       "      <td>0</td>\n",
       "      <td>%% 7nbwy8</td>\n",
       "      <td>I've been on and off depression for my entire ...</td>\n",
       "    </tr>\n",
       "    <tr>\n",
       "      <td>1</td>\n",
       "      <td>%% ds0p00k</td>\n",
       "      <td>I think that's the point of depression. It's a...</td>\n",
       "    </tr>\n",
       "    <tr>\n",
       "      <td>2</td>\n",
       "      <td>%% 7nbwwv</td>\n",
       "      <td>Just a thought I have sometimes. I'm not getti...</td>\n",
       "    </tr>\n",
       "    <tr>\n",
       "      <td>3</td>\n",
       "      <td>%% ds0n6pg</td>\n",
       "      <td>It'll probably take a few days for me since I ...</td>\n",
       "    </tr>\n",
       "    <tr>\n",
       "      <td>4</td>\n",
       "      <td>%% ds0ncw1</td>\n",
       "      <td>Blue mooners and fair weather friends can go f...</td>\n",
       "    </tr>\n",
       "  </tbody>\n",
       "</table>\n",
       "</div>"
      ],
      "text/plain": [
       "           id                                               text\n",
       "0   %% 7nbwy8  I've been on and off depression for my entire ...\n",
       "1  %% ds0p00k  I think that's the point of depression. It's a...\n",
       "2   %% 7nbwwv  Just a thought I have sometimes. I'm not getti...\n",
       "3  %% ds0n6pg  It'll probably take a few days for me since I ...\n",
       "4  %% ds0ncw1  Blue mooners and fair weather friends can go f..."
      ]
     },
     "execution_count": 31,
     "metadata": {},
     "output_type": "execute_result"
    }
   ],
   "source": [
    "unlab_dataset.head()\n",
    "#len(unlab_dataset)"
   ]
  },
  {
   "cell_type": "code",
   "execution_count": 78,
   "metadata": {},
   "outputs": [
    {
     "data": {
      "text/plain": [
       "10723"
      ]
     },
     "execution_count": 78,
     "metadata": {},
     "output_type": "execute_result"
    }
   ],
   "source": [
    "len(unlab_dataset[unlab_dataset[\"id\"].str.match(r'%% 7')])"
   ]
  },
  {
   "cell_type": "code",
   "execution_count": 79,
   "metadata": {},
   "outputs": [],
   "source": [
    "final = unlab_dataset[unlab_dataset[\"id\"].str.match(r'%% 7')]\n",
    "#final.index = range(len(final)) #brings indexes to normal 0:N"
   ]
  },
  {
   "cell_type": "code",
   "execution_count": 80,
   "metadata": {},
   "outputs": [],
   "source": [
    "final.insert(0,'FakeID',range(len(final)))"
   ]
  },
  {
   "cell_type": "code",
   "execution_count": 81,
   "metadata": {},
   "outputs": [
    {
     "data": {
      "text/html": [
       "<div>\n",
       "<style scoped>\n",
       "    .dataframe tbody tr th:only-of-type {\n",
       "        vertical-align: middle;\n",
       "    }\n",
       "\n",
       "    .dataframe tbody tr th {\n",
       "        vertical-align: top;\n",
       "    }\n",
       "\n",
       "    .dataframe thead th {\n",
       "        text-align: right;\n",
       "    }\n",
       "</style>\n",
       "<table border=\"1\" class=\"dataframe\">\n",
       "  <thead>\n",
       "    <tr style=\"text-align: right;\">\n",
       "      <th></th>\n",
       "      <th>FakeID</th>\n",
       "      <th>id</th>\n",
       "      <th>text</th>\n",
       "    </tr>\n",
       "  </thead>\n",
       "  <tbody>\n",
       "    <tr>\n",
       "      <td>0</td>\n",
       "      <td>0</td>\n",
       "      <td>%% 7nbwy8</td>\n",
       "      <td>I've been on and off depression for my entire ...</td>\n",
       "    </tr>\n",
       "    <tr>\n",
       "      <td>2</td>\n",
       "      <td>1</td>\n",
       "      <td>%% 7nbwwv</td>\n",
       "      <td>Just a thought I have sometimes. I'm not getti...</td>\n",
       "    </tr>\n",
       "    <tr>\n",
       "      <td>5</td>\n",
       "      <td>2</td>\n",
       "      <td>%% 7nbw09</td>\n",
       "      <td>I loved you at the beginning 2017. You took me...</td>\n",
       "    </tr>\n",
       "    <tr>\n",
       "      <td>7</td>\n",
       "      <td>3</td>\n",
       "      <td>%% 7nbvyp</td>\n",
       "      <td>I just want to be myself again.I am full of an...</td>\n",
       "    </tr>\n",
       "    <tr>\n",
       "      <td>8</td>\n",
       "      <td>4</td>\n",
       "      <td>%% 7nbvo4</td>\n",
       "      <td>Every \"day\" is the fucking same. Wake up, show...</td>\n",
       "    </tr>\n",
       "  </tbody>\n",
       "</table>\n",
       "</div>"
      ],
      "text/plain": [
       "   FakeID         id                                               text\n",
       "0       0  %% 7nbwy8  I've been on and off depression for my entire ...\n",
       "2       1  %% 7nbwwv  Just a thought I have sometimes. I'm not getti...\n",
       "5       2  %% 7nbw09  I loved you at the beginning 2017. You took me...\n",
       "7       3  %% 7nbvyp  I just want to be myself again.I am full of an...\n",
       "8       4  %% 7nbvo4  Every \"day\" is the fucking same. Wake up, show..."
      ]
     },
     "execution_count": 81,
     "metadata": {},
     "output_type": "execute_result"
    }
   ],
   "source": [
    "final.head()"
   ]
  },
  {
   "cell_type": "code",
   "execution_count": 82,
   "metadata": {},
   "outputs": [
    {
     "data": {
      "text/plain": [
       "10723"
      ]
     },
     "execution_count": 82,
     "metadata": {},
     "output_type": "execute_result"
    }
   ],
   "source": [
    "len(final)"
   ]
  },
  {
   "cell_type": "code",
   "execution_count": 83,
   "metadata": {},
   "outputs": [],
   "source": [
    "# you can also write data to a file\n",
    "final.to_csv(\"final_orig.csv\", sep='\\t', index=False)"
   ]
  },
  {
   "cell_type": "code",
   "execution_count": 84,
   "metadata": {},
   "outputs": [],
   "source": [
    "final.to_csv(\"map.csv\", sep='\\t', columns = ['FakeID','id'], index=False)"
   ]
  },
  {
   "cell_type": "code",
   "execution_count": 85,
   "metadata": {},
   "outputs": [],
   "source": [
    "final.to_csv(\"final_fake.csv\", sep='\\t',columns = ['FakeID', 'text'], index=False)"
   ]
  },
  {
   "cell_type": "code",
   "execution_count": 86,
   "metadata": {},
   "outputs": [],
   "source": [
    "data = pd.read_csv(\"final_fake.csv\", sep='\\t')"
   ]
  },
  {
   "cell_type": "code",
   "execution_count": 87,
   "metadata": {},
   "outputs": [],
   "source": [
    "#del data['Unnamed: 0']"
   ]
  },
  {
   "cell_type": "code",
   "execution_count": 88,
   "metadata": {},
   "outputs": [
    {
     "data": {
      "text/html": [
       "<div>\n",
       "<style scoped>\n",
       "    .dataframe tbody tr th:only-of-type {\n",
       "        vertical-align: middle;\n",
       "    }\n",
       "\n",
       "    .dataframe tbody tr th {\n",
       "        vertical-align: top;\n",
       "    }\n",
       "\n",
       "    .dataframe thead th {\n",
       "        text-align: right;\n",
       "    }\n",
       "</style>\n",
       "<table border=\"1\" class=\"dataframe\">\n",
       "  <thead>\n",
       "    <tr style=\"text-align: right;\">\n",
       "      <th></th>\n",
       "      <th>FakeID</th>\n",
       "      <th>text</th>\n",
       "    </tr>\n",
       "  </thead>\n",
       "  <tbody>\n",
       "    <tr>\n",
       "      <td>0</td>\n",
       "      <td>0</td>\n",
       "      <td>I've been on and off depression for my entire ...</td>\n",
       "    </tr>\n",
       "    <tr>\n",
       "      <td>1</td>\n",
       "      <td>1</td>\n",
       "      <td>Just a thought I have sometimes. I'm not getti...</td>\n",
       "    </tr>\n",
       "    <tr>\n",
       "      <td>2</td>\n",
       "      <td>2</td>\n",
       "      <td>I loved you at the beginning 2017. You took me...</td>\n",
       "    </tr>\n",
       "    <tr>\n",
       "      <td>3</td>\n",
       "      <td>3</td>\n",
       "      <td>I just want to be myself again.I am full of an...</td>\n",
       "    </tr>\n",
       "    <tr>\n",
       "      <td>4</td>\n",
       "      <td>4</td>\n",
       "      <td>Every \"day\" is the fucking same. Wake up, show...</td>\n",
       "    </tr>\n",
       "  </tbody>\n",
       "</table>\n",
       "</div>"
      ],
      "text/plain": [
       "   FakeID                                               text\n",
       "0       0  I've been on and off depression for my entire ...\n",
       "1       1  Just a thought I have sometimes. I'm not getti...\n",
       "2       2  I loved you at the beginning 2017. You took me...\n",
       "3       3  I just want to be myself again.I am full of an...\n",
       "4       4  Every \"day\" is the fucking same. Wake up, show..."
      ]
     },
     "execution_count": 88,
     "metadata": {},
     "output_type": "execute_result"
    }
   ],
   "source": [
    "data.head()"
   ]
  }
 ],
 "metadata": {
  "kernelspec": {
   "display_name": "Python 3",
   "language": "python",
   "name": "python3"
  },
  "language_info": {
   "codemirror_mode": {
    "name": "ipython",
    "version": 3
   },
   "file_extension": ".py",
   "mimetype": "text/x-python",
   "name": "python",
   "nbconvert_exporter": "python",
   "pygments_lexer": "ipython3",
   "version": "3.6.4"
  }
 },
 "nbformat": 4,
 "nbformat_minor": 2
}
